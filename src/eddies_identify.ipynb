{
 "cells": [
  {
   "cell_type": "code",
   "execution_count": null,
   "metadata": {},
   "outputs": [],
   "source": [
    "# import some packages\n",
    "import random\n",
    "import os\n",
    "import xarray as xr\n",
    "import numpy as np\n",
    "import xgcm # this is an xarray-based package to deal with GCM output\n",
    "from matplotlib import pyplot as plt\n",
    "import cmocean # this is a colormap package\n",
    "import cartopy.crs as ccrs # this is a mapping package\n",
    "import gsw\n",
    "from scipy.ndimage import convolve\n",
    "from scipy.ndimage import gaussian_filter as gf\n",
    "%matplotlib inline\n",
    "import matplotlib as mpl \n",
    "import seaborn as sns\n",
    "sns.set(style='ticks', context='notebook',font_scale=1.3)\n",
    "mpl.rc('figure', dpi=100)\n",
    "mpl.rc('savefig', dpi=500, bbox='tight')\n",
    "mpl.rc('legend', frameon=False)\n",
    "\n",
    "plt.rcParams['font.size'] = 16"
   ]
  },
  {
   "cell_type": "code",
   "execution_count": null,
   "metadata": {},
   "outputs": [],
   "source": []
  },
  {
   "cell_type": "markdown",
   "metadata": {},
   "source": [
    "## Making a method for ploting the Eddies and Kurishio,and then making analysis based on the plots.\n",
    "\n",
    "1. plot the existing variables to see them roughly\n",
    "2. Calculate all of the variables we need into the dataset \n",
    "3. Make a rough plot for these new variables\n",
    "4. Pick a eddy that is related with Kuroshio \n",
    "5. Ploting variables to see how the eddy looks like in every plot\n",
    "6. See the eddy within time steps \n",
    "7. download these pictures then make a powerpoint"
   ]
  },
  {
   "cell_type": "markdown",
   "metadata": {},
   "source": [
    "Local data from NASA"
   ]
  },
  {
   "cell_type": "code",
   "execution_count": null,
   "metadata": {},
   "outputs": [],
   "source": [
    "ds_time = xr.open_dataset('taiwan_snapshot_30timesteps.nc')"
   ]
  },
  {
   "cell_type": "raw",
   "metadata": {},
   "source": [
    "Display the data, it should include 4 dimensions and 28 coordinates and 8 data variables "
   ]
  },
  {
   "cell_type": "code",
   "execution_count": null,
   "metadata": {},
   "outputs": [],
   "source": [
    "ds = ds_time.isel(time = 1) ## making the defult to be the first time in the timesteps dataset"
   ]
  },
  {
   "cell_type": "code",
   "execution_count": null,
   "metadata": {},
   "outputs": [],
   "source": [
    "grid = xgcm.Grid(ds, periodic=False)\n",
    "grid #slicing the plot and data into XY grids"
   ]
  },
  {
   "cell_type": "markdown",
   "metadata": {},
   "source": [
    "# Sea Surface Height"
   ]
  },
  {
   "cell_type": "code",
   "execution_count": null,
   "metadata": {},
   "outputs": [],
   "source": [
    "# same for SST and SSS\n",
    "#Below notice that Eta, SST, SSS are at (i,j) indices dimensions, \n",
    "#so at the center of grid cell, but Zeta is at (i_g,j_g), so at the sides of grid cells\n",
    "central_lon = ds.XC.mean().values\n",
    "central_lat = ds.YC.mean().values\n",
    "\n",
    "fig = plt.figure(figsize=(13, 10))\n",
    "ax = fig.add_axes([0, 0.02, 1, 0.91],\n",
    "                  projection=ccrs.Orthographic(central_lon, central_lat))\n",
    "ds.SSH.plot(ax=ax, x='XC', y='YC',  robust=True, transform=ccrs.PlateCarree(), \n",
    "            cbar_kwargs={'pad':0.01,'aspect': 30}, rasterized=True)\n",
    "\n",
    "ax.set_title('Sea surface height');"
   ]
  },
  {
   "cell_type": "markdown",
   "metadata": {},
   "source": [
    "## Sea Surface Temperature"
   ]
  },
  {
   "cell_type": "code",
   "execution_count": null,
   "metadata": {},
   "outputs": [],
   "source": [
    "central_lon = ds.XC.mean().values\n",
    "central_lat = ds.YC.mean().values\n",
    "\n",
    "fig = plt.figure(figsize=(13, 10))\n",
    "ax = fig.add_axes([0, 0.02, 1, 0.91],\n",
    "                  projection=ccrs.Orthographic(central_lon, central_lat))\n",
    "ds.SST.plot(ax=ax, x='XC', y='YC',  robust=True, transform=ccrs.PlateCarree(), \n",
    "            cbar_kwargs={'pad':0.01,'aspect': 30}, rasterized=True)\n",
    "\n",
    "ax.set_title('Sea surface Temperature');"
   ]
  },
  {
   "cell_type": "markdown",
   "metadata": {},
   "source": [
    "## Vorticity"
   ]
  },
  {
   "cell_type": "code",
   "execution_count": null,
   "metadata": {},
   "outputs": [],
   "source": [
    "central_lon = ds.XC.mean().values\n",
    "central_lat = ds.YC.mean().values\n",
    "\n",
    "fig = plt.figure(figsize=(13, 10))\n",
    "ax = fig.add_axes([0, 0.02, 1, 0.91],\n",
    "                  projection=ccrs.Orthographic(central_lon, central_lat))\n",
    "ds.zeta.plot(ax=ax, x='XG', y='YG',  robust=True, transform=ccrs.PlateCarree(),\n",
    "            cbar_kwargs={'pad':0.01,'aspect': 30}, rasterized=True)\n",
    "\n",
    "ax.set_title(r'Vorticity')"
   ]
  },
  {
   "cell_type": "markdown",
   "metadata": {},
   "source": [
    "## Sea Surface Salinity"
   ]
  },
  {
   "cell_type": "code",
   "execution_count": null,
   "metadata": {},
   "outputs": [],
   "source": [
    "central_lon = ds.XC.mean().values\n",
    "central_lat = ds.YC.mean().values\n",
    "\n",
    "fig = plt.figure(figsize=(13, 10))\n",
    "ax = fig.add_axes([0, 0.02, 1, 0.91],\n",
    "                  projection=ccrs.Orthographic(central_lon, central_lat))\n",
    "ds.SSS.plot(ax=ax, x='XC', y='YC',  robust=True, transform=ccrs.PlateCarree(), \n",
    "            cbar_kwargs={'pad':0.01,'aspect': 30}, rasterized=True)\n",
    "\n",
    "ax.set_title('Sea surface Salinity');"
   ]
  },
  {
   "cell_type": "markdown",
   "metadata": {},
   "source": [
    "### Next: Calculate Variables"
   ]
  },
  {
   "cell_type": "code",
   "execution_count": null,
   "metadata": {},
   "outputs": [],
   "source": [
    "ds['eta_prime'] = ds.SSH - ds.SSH.mean() # removing the mean"
   ]
  },
  {
   "cell_type": "code",
   "execution_count": null,
   "metadata": {},
   "outputs": [],
   "source": [
    "central_lon = ds.XC.mean().values\n",
    "central_lat = ds.YC.mean().values\n",
    "\n",
    "fig = plt.figure(figsize=(13, 10))\n",
    "ax = fig.add_axes([0, 0.02, 1, 0.91],\n",
    "                  projection=ccrs.Orthographic(central_lon, central_lat))\n",
    "\n",
    "ds.eta_prime.plot(ax=ax, x='XC', y='YC',  robust=True, transform=ccrs.PlateCarree(), \n",
    "            cbar_kwargs={'pad':0.01,'aspect': 30}, rasterized=True)\n",
    "ax.set_title('Eta_prime')"
   ]
  },
  {
   "cell_type": "markdown",
   "metadata": {},
   "source": [
    "#### Gridiant Eta Sea Surface Height\n",
    "\n",
    "dEta/dx and dEta/dy, at center"
   ]
  },
  {
   "cell_type": "code",
   "execution_count": null,
   "metadata": {},
   "outputs": [],
   "source": [
    "ds['eta_filt'] =(('j','i'), gf(ds.SSH,5,mode = 'mirror')) #gaussian filter, other than remove the mean "
   ]
  },
  {
   "cell_type": "raw",
   "metadata": {},
   "source": [
    "since the dimensions for eta_dx and eta_dy are different, used the following method for solving the problem"
   ]
  },
  {
   "cell_type": "code",
   "execution_count": null,
   "metadata": {},
   "outputs": [],
   "source": [
    "metrics = {\n",
    " ('X',): ['dxC', 'dxG'], # X distances\n",
    " ('Y',): ['dyC', 'dyG'], # Y distances\n",
    "# ('Z',): ['drW', 'drS', 'drC'], # Z distances\n",
    " ('X', 'Y'): ['rA', 'rAz', 'rAs', 'rAw'] # Areas\n",
    "}\n",
    "\n",
    "grid = xgcm.Grid(ds, periodic=False, metrics=metrics)\n",
    "\n",
    "ds['eta_dx'] = grid.derivative(ds.eta_filt, 'X', boundary='extend')\n",
    "ds['eta_dy'] = grid.derivative(ds.eta_filt, 'Y', boundary='extend')"
   ]
  },
  {
   "cell_type": "code",
   "execution_count": null,
   "metadata": {},
   "outputs": [],
   "source": [
    "ds['eta_dx_abs'] = np.sqrt(grid.interp(ds.eta_dx**2, 'X', boundary = 'extend') + \n",
    "                           grid.interp(ds.eta_dy**2,'Y', boundary = 'extend')) # eta dx absolute value"
   ]
  },
  {
   "cell_type": "raw",
   "metadata": {},
   "source": [
    "Making plots for gradiant sea surface height to roughly see what they look like"
   ]
  },
  {
   "cell_type": "code",
   "execution_count": null,
   "metadata": {},
   "outputs": [],
   "source": [
    "fig, ax = plt.subplots(1,4, figsize = (25,12), sharey = True)\n",
    "\n",
    "ds.eta_filt.plot(robust = True, ax = ax[0])\n",
    "ds.eta_dx.plot(robust = True, ax = ax[1])\n",
    "ds.eta_dy.plot(robust = True, ax = ax[2])\n",
    "ds.eta_dx_abs.plot(robust = True, ax = ax[3])\n",
    "ax[0].set_title(r'Sea surface Height after Filtering')\n",
    "ax[1].set_title(r'Gradiant Eta dx')\n",
    "ax[2].set_title(r'Gradiant Eta dy')\n",
    "ax[3].set_title(r'absolute gradiant Eta')"
   ]
  },
  {
   "cell_type": "code",
   "execution_count": null,
   "metadata": {},
   "outputs": [],
   "source": [
    "central_lon = ds.XC.mean().values\n",
    "central_lat = ds.YC.mean().values\n",
    "\n",
    "fig = plt.figure(figsize=(13, 10))\n",
    "ax = fig.add_axes([0, 0.02, 1, 0.91],\n",
    "                  projection=ccrs.Orthographic(central_lon, central_lat))\n",
    "ds.eta_dx_abs.plot(ax=ax, x='XC', y='YC',  robust=True, transform=ccrs.PlateCarree(), \n",
    "            cbar_kwargs={'pad':0.01,'aspect': 30}, rasterized=True)\n",
    "\n",
    "ax.set_title('Absolute Gradiant Eta');"
   ]
  },
  {
   "cell_type": "markdown",
   "metadata": {},
   "source": [
    "## Geographic velocity"
   ]
  },
  {
   "cell_type": "code",
   "execution_count": null,
   "metadata": {},
   "outputs": [],
   "source": [
    "ds['f'] = gsw.f(ds.YC.mean(dim = 'i')) #Coriolis force"
   ]
  },
  {
   "cell_type": "code",
   "execution_count": null,
   "metadata": {},
   "outputs": [],
   "source": [
    "ds['geo_V'] = 9.8 * ds.eta_dx/ds.f.mean()\n",
    "ds['geo_U'] = -9.8 * ds.eta_dy/ds.f.mean()"
   ]
  },
  {
   "cell_type": "raw",
   "metadata": {},
   "source": [
    "Roughly see how they look like"
   ]
  },
  {
   "cell_type": "code",
   "execution_count": null,
   "metadata": {},
   "outputs": [],
   "source": [
    "fig, ax = plt.subplots(1,2, figsize = (15,10), sharey = True)\n",
    "ds.geo_V.plot(robust = True, ax = ax[0])\n",
    "ds.geo_U.plot(robust = True, ax = ax[1])\n",
    "ax[0].set_title(r'Geographic V')\n",
    "ax[1].set_title(r'Geographic U')"
   ]
  },
  {
   "cell_type": "markdown",
   "metadata": {},
   "source": [
    "#### Sea Surface Density"
   ]
  },
  {
   "cell_type": "code",
   "execution_count": null,
   "metadata": {},
   "outputs": [],
   "source": [
    "SA = ds.SSS\n",
    "CT = ds.SST \n",
    "ds[\"density\"] = gsw.rho(SA, CT, 0)-1000"
   ]
  },
  {
   "cell_type": "code",
   "execution_count": null,
   "metadata": {},
   "outputs": [],
   "source": [
    "central_lon = ds.XC.mean().values\n",
    "central_lat = ds.YC.mean().values\n",
    "\n",
    "fig = plt.figure(figsize=(13, 10))\n",
    "ax = fig.add_axes([0, 0.02, 1, 0.91],\n",
    "                  projection=ccrs.Orthographic(central_lon, central_lat))\n",
    "ds.density.plot(ax=ax, x='XC', y='YC',  robust=True, transform=ccrs.PlateCarree(), \n",
    "            cbar_kwargs={'pad':0.01,'aspect': 30}, rasterized=True)\n",
    "\n",
    "ax.set_title('Sea surface Density');"
   ]
  },
  {
   "cell_type": "markdown",
   "metadata": {},
   "source": [
    "#### S_s and S_u"
   ]
  },
  {
   "cell_type": "code",
   "execution_count": null,
   "metadata": {},
   "outputs": [],
   "source": [
    "## U(j, i_g)\n",
    "## V(j_g, i)\n",
    "## S_u = (dv/dy + du/dx)^2 \n",
    "## S_s = (du/dx - dv/dy)^2\n",
    "## ds['S_u'] = ((ds.V * ds.dyC + ds.U * ds.dxC)**2)/ds.rAz\n",
    "## ds['S_s'] = ((ds.U * ds.dxC - ds.V * ds.dyC)**2)/ds.rA\n",
    "\n",
    "ds['SS'] = (grid.diff(ds.U * ds.dxC, 'X', boundary='extend') -\n",
    "             grid.diff(ds.V * ds.dyC, 'Y', boundary='extend'))/ds.rA\n",
    "ds['SU'] = (grid.diff(ds.U * ds.dxC, 'Y', boundary='extend') +\n",
    "             grid.diff(ds.V * ds.dyC, 'X', boundary='extend'))/ds.rAz\n",
    "ds['zeta'] = (-grid.diff(ds.U * ds.dxC, 'Y', boundary='extend') +\n",
    "                    grid.diff(ds.V * ds.dyC, 'X', boundary='extend'))/ds.rAz"
   ]
  },
  {
   "cell_type": "code",
   "execution_count": null,
   "metadata": {},
   "outputs": [],
   "source": [
    "central_lon = ds.XC.mean().values\n",
    "central_lat = ds.YC.mean().values\n",
    "\n",
    "fig = plt.figure(figsize=(13, 10))\n",
    "ax = fig.add_axes([0, 0.02, 1, 0.91],\n",
    "                  projection=ccrs.Orthographic(central_lon, central_lat))\n",
    "ds.SS.plot(ax=ax, x='XC', y='YC',  robust=True, transform=ccrs.PlateCarree(), \n",
    "            cbar_kwargs={'pad':0.01,'aspect': 30}, rasterized=True)\n",
    "\n",
    "ax.set_title('Strain rate tangentially');"
   ]
  },
  {
   "cell_type": "code",
   "execution_count": null,
   "metadata": {},
   "outputs": [],
   "source": [
    "central_lon = ds.XC.mean().values\n",
    "central_lat = ds.YC.mean().values\n",
    "\n",
    "fig = plt.figure(figsize=(13, 10))\n",
    "ax = fig.add_axes([0, 0.02, 1, 0.91],\n",
    "                  projection=ccrs.Orthographic(central_lon, central_lat))\n",
    "ds.SU.plot(ax=ax, x='XG', y='YG',  robust=True, transform=ccrs.PlateCarree(), \n",
    "            cbar_kwargs={'pad':0.01,'aspect': 30}, rasterized=True)\n",
    "\n",
    "ax.set_title('Strain rate normal');"
   ]
  },
  {
   "cell_type": "markdown",
   "metadata": {},
   "source": [
    "### Okubo force based on the Ss and Su"
   ]
  },
  {
   "cell_type": "code",
   "execution_count": null,
   "metadata": {},
   "outputs": [],
   "source": [
    "## next is to calculatethe W which is ss^2 + su^2 - zeta^2(voticity), W is Okubo Weiss Criterion \n",
    "ds['W'] = (grid.interp(ds.SS**2, ['X','Y'], boundary = 'extend')) + (ds.SU)**2 - (ds.zeta)**2"
   ]
  },
  {
   "cell_type": "raw",
   "metadata": {},
   "source": [
    "Filtering ss su and zeta first,then get the filtering W"
   ]
  },
  {
   "cell_type": "code",
   "execution_count": null,
   "metadata": {},
   "outputs": [],
   "source": [
    "ds['gf_SS'] = (('j', 'i'), gf(ds.SS, sigma = 10, mode='nearest',cval=0))\n",
    "ds['gf_SU'] = (('j_g', 'i_g'), gf(ds.SU, sigma = 10, mode='nearest',cval=0))\n",
    "ds['gf_Zeta'] = (('j_g', 'i_g'), gf(ds.zeta, sigma = 10, mode='nearest',cval=0))"
   ]
  },
  {
   "cell_type": "code",
   "execution_count": null,
   "metadata": {},
   "outputs": [],
   "source": [
    "ds['W_filt'] = (grid.interp(ds.gf_SS**2, ['X','Y'], boundary = 'extend')) + (ds.gf_SU)**2 - (ds.gf_Zeta)**2"
   ]
  },
  {
   "cell_type": "code",
   "execution_count": null,
   "metadata": {},
   "outputs": [],
   "source": [
    "central_lon = ds.XC.mean().values\n",
    "central_lat = ds.YC.mean().values\n",
    "\n",
    "fig = plt.figure(figsize=(13, 10))\n",
    "ax = fig.add_axes([0, 0.02, 1, 0.91],\n",
    "                  projection=ccrs.Orthographic(central_lon, central_lat))\n",
    "ds.W.plot(ax=ax, x='XG', y='YG',  robust=True, transform=ccrs.PlateCarree(), \n",
    "            cbar_kwargs={'pad':0.01,'aspect': 30}, rasterized=True)\n",
    "\n",
    "ax.set_title('Okubo Weiss Criterion');"
   ]
  },
  {
   "cell_type": "code",
   "execution_count": null,
   "metadata": {},
   "outputs": [],
   "source": [
    "central_lon = ds.XC.mean().values\n",
    "central_lat = ds.YC.mean().values\n",
    "\n",
    "fig = plt.figure(figsize=(13, 10))\n",
    "ax = fig.add_axes([0, 0.02, 1, 0.91],\n",
    "                  projection=ccrs.Orthographic(central_lon, central_lat))\n",
    "ds.W_filt.plot(ax=ax, x='XG', y='YG',  robust=True, transform=ccrs.PlateCarree(), \n",
    "            cbar_kwargs={'pad':0.01,'aspect': 30}, rasterized=True)\n",
    "\n",
    "ax.set_title('Okubo Weiss Criterion after Filter');"
   ]
  },
  {
   "cell_type": "markdown",
   "metadata": {},
   "source": [
    "#### Rossby Number\n",
    "vorticity / Coriolis force"
   ]
  },
  {
   "cell_type": "code",
   "execution_count": null,
   "metadata": {},
   "outputs": [],
   "source": [
    "ds['Rossby'] = grid.interp(ds.zeta, ['X','Y'], boundary = 'extend')/ds.f"
   ]
  },
  {
   "cell_type": "code",
   "execution_count": null,
   "metadata": {},
   "outputs": [],
   "source": [
    "central_lon = ds.XC.mean().values\n",
    "central_lat = ds.YC.mean().values\n",
    "\n",
    "fig = plt.figure(figsize=(13, 10))\n",
    "ax = fig.add_axes([0, 0.02, 1, 0.91],\n",
    "                  projection=ccrs.Orthographic(central_lon, central_lat))\n",
    "ds.Rossby.plot(ax=ax, x='XC', y='YC',  robust=True, transform=ccrs.PlateCarree(), \n",
    "            cbar_kwargs={'pad':0.01,'aspect': 30}, rasterized=True)\n",
    "\n",
    "ax.set_title('Rossby Number'); ## rossby number related to vorticity"
   ]
  },
  {
   "cell_type": "raw",
   "metadata": {},
   "source": [
    "Guassian filter"
   ]
  },
  {
   "cell_type": "code",
   "execution_count": null,
   "metadata": {},
   "outputs": [],
   "source": [
    "ds['guassian_filter_Rossby'] = (('j_g', 'i_g'), gf(ds.Rossby, sigma = 10, mode='nearest',cval=0))"
   ]
  },
  {
   "cell_type": "code",
   "execution_count": null,
   "metadata": {},
   "outputs": [],
   "source": [
    "central_lon = ds.XC.mean().values\n",
    "central_lat = ds.YC.mean().values\n",
    "\n",
    "fig = plt.figure(figsize=(13, 10))\n",
    "ax = fig.add_axes([0, 0.02, 1, 0.91],\n",
    "                  projection=ccrs.Orthographic(central_lon, central_lat))\n",
    "\n",
    "ds.guassian_filter_Rossby.plot(ax=ax, x='XG', y='YG',  robust=True, transform=ccrs.PlateCarree(), \n",
    "            cbar_kwargs={'pad':0.01,'aspect': 30}, rasterized=True)\n",
    "ax.set_title('Rossby after Gaussian')"
   ]
  },
  {
   "cell_type": "markdown",
   "metadata": {},
   "source": [
    "#### Pick one eddy \n",
    "\n",
    "Roughly look at these plots above, I would think that vorticity plot show a better image for identify eddies I want. "
   ]
  },
  {
   "cell_type": "code",
   "execution_count": null,
   "metadata": {},
   "outputs": [],
   "source": [
    "central_lon = ds.XC.mean().values\n",
    "central_lat = ds.YC.mean().values\n",
    "\n",
    "fig = plt.figure(figsize=(13, 10))\n",
    "ax = fig.add_axes([0, 0.02, 1, 0.91],\n",
    "                  projection=ccrs.Orthographic(central_lon, central_lat))\n",
    "ds.zeta.plot(ax=ax, x='XG', y='YG',  robust=True, transform=ccrs.PlateCarree(),\n",
    "            cbar_kwargs={'pad':0.01,'aspect': 30}, rasterized=True)\n",
    "ax.set_title(r'Vorticity')"
   ]
  },
  {
   "cell_type": "raw",
   "metadata": {},
   "source": [
    "I am gonna pick the one where is at right of Taiwan and right under kuroshio\n",
    "since vorticity is a basic variable that already contains inside the original dataset, I can use it to see how it changes over time"
   ]
  },
  {
   "cell_type": "code",
   "execution_count": null,
   "metadata": {},
   "outputs": [],
   "source": [
    "ds2 = ds_time.isel(time = 2)"
   ]
  },
  {
   "cell_type": "code",
   "execution_count": null,
   "metadata": {},
   "outputs": [],
   "source": [
    "central_lon = ds.XC.mean().values\n",
    "central_lat = ds.YC.mean().values\n",
    "\n",
    "fig = plt.figure(figsize=(13, 10))\n",
    "ax = fig.add_axes([0, 0.02, 1, 0.91],\n",
    "                  projection=ccrs.Orthographic(central_lon, central_lat))\n",
    "ds2.zeta.plot(ax=ax, x='XG', y='YG',  robust=True, transform=ccrs.PlateCarree(),\n",
    "            cbar_kwargs={'pad':0.01,'aspect': 30}, rasterized=True)\n",
    "\n",
    "ax.set_title(r'Vorticity time 2')"
   ]
  },
  {
   "cell_type": "code",
   "execution_count": null,
   "metadata": {},
   "outputs": [],
   "source": [
    "ds2['SS'] = (grid.diff(ds2.U * ds2.dxC, 'X', boundary='extend') -\n",
    "             grid.diff(ds2.V * ds2.dyC, 'Y', boundary='extend'))/ds2.rA\n",
    "ds2['SU'] = (grid.diff(ds2.U * ds2.dxC, 'Y', boundary='extend') +\n",
    "             grid.diff(ds2.V * ds2.dyC, 'X', boundary='extend'))/ds2.rAz\n",
    "ds2['gf_SS'] = (('j', 'i'), gf(ds2.SS, sigma = 10, mode='nearest',cval=0))\n",
    "ds2['gf_SU'] = (('j_g', 'i_g'), gf(ds2.SU, sigma = 10, mode='nearest',cval=0))\n",
    "ds2['gf_Zeta'] = (('j_g', 'i_g'), gf(ds2.zeta, sigma = 10, mode='nearest',cval=0))\n",
    "ds2['W_filt'] = (grid.interp(ds2.gf_SS**2, ['X','Y'], boundary = 'extend')) + (ds2.gf_SU)**2 - (ds2.gf_Zeta)**2"
   ]
  },
  {
   "cell_type": "code",
   "execution_count": null,
   "metadata": {},
   "outputs": [],
   "source": [
    "central_lon = ds.XC.mean().values\n",
    "central_lat = ds.YC.mean().values\n",
    "\n",
    "fig = plt.figure(figsize=(13, 10))\n",
    "ax = fig.add_axes([0, 0.02, 1, 0.91],\n",
    "                  projection=ccrs.Orthographic(central_lon, central_lat))\n",
    "ds2.W_filt.plot(ax=ax, x='XG', y='YG',  robust=True, transform=ccrs.PlateCarree(), \n",
    "            cbar_kwargs={'pad':0.01,'aspect': 30}, rasterized=True)\n",
    "\n",
    "ax.set_title('Okubo Weiss Criterion after Filter time 2');"
   ]
  },
  {
   "cell_type": "code",
   "execution_count": null,
   "metadata": {},
   "outputs": [],
   "source": [
    "ds2['eta_filt'] =(('j','i'), gf(ds.SSH,5,mode = 'nearest'))\n",
    "grid = xgcm.Grid(ds, periodic=False, metrics=metrics)\n",
    "ds2['eta_dx'] = grid.derivative(ds2.eta_filt, 'X', boundary='extend')\n",
    "ds2['eta_dy'] = grid.derivative(ds2.eta_filt, 'Y', boundary='extend')\n",
    "ds2['eta_dx_abs'] = np.sqrt(grid.interp(ds2.eta_dx**2, 'X', boundary = 'extend') + \n",
    "                           grid.interp(ds2.eta_dy**2,'Y', boundary = 'extend')) # eta dx absolute value"
   ]
  },
  {
   "cell_type": "code",
   "execution_count": null,
   "metadata": {},
   "outputs": [],
   "source": [
    "central_lon = ds2.XC.mean().values\n",
    "central_lat = ds2.YC.mean().values\n",
    "\n",
    "fig = plt.figure(figsize=(13, 10))\n",
    "ax = fig.add_axes([0, 0.02, 1, 0.91],\n",
    "                  projection=ccrs.Orthographic(central_lon, central_lat))\n",
    "ds2.eta_dx_abs.plot(ax=ax, x='XC', y='YC',  robust=True, transform=ccrs.PlateCarree(),\n",
    "            cbar_kwargs={'pad':0.01,'aspect': 30}, rasterized=True)\n",
    "\n",
    "ax.set_title(r'Gradiant Absolute time 2')"
   ]
  },
  {
   "cell_type": "code",
   "execution_count": null,
   "metadata": {},
   "outputs": [],
   "source": [
    "ds3 = ds_time.isel(time = 3)\n",
    "central_lon = ds3.XC.mean().values\n",
    "central_lat = ds3.YC.mean().values\n",
    "\n",
    "fig = plt.figure(figsize=(13, 10))\n",
    "ax = fig.add_axes([0, 0.02, 1, 0.91],\n",
    "                  projection=ccrs.Orthographic(central_lon, central_lat))\n",
    "ds3.zeta.plot(ax=ax, x='XG', y='YG',  robust=True, transform=ccrs.PlateCarree(),\n",
    "            cbar_kwargs={'pad':0.01,'aspect': 30}, rasterized=True)\n",
    "\n",
    "ax.set_title(r'Vorticity time 3')\n",
    "plt.savefig('vorticity_time3.png')"
   ]
  },
  {
   "cell_type": "code",
   "execution_count": null,
   "metadata": {},
   "outputs": [],
   "source": [
    "ds4 = ds_time.isel(time = 4)\n",
    "central_lon = ds.XC.mean().values\n",
    "central_lat = ds.YC.mean().values\n",
    "\n",
    "fig = plt.figure(figsize=(13, 10))\n",
    "ax = fig.add_axes([0, 0.02, 1, 0.91],\n",
    "                  projection=ccrs.Orthographic(central_lon, central_lat))\n",
    "ds4.zeta.plot(ax=ax, x='XG', y='YG',  robust=True, transform=ccrs.PlateCarree(),\n",
    "            cbar_kwargs={'pad':0.01,'aspect': 30}, rasterized=True)\n",
    "\n",
    "ax.set_title(r'Vorticity time 4')"
   ]
  },
  {
   "cell_type": "code",
   "execution_count": null,
   "metadata": {},
   "outputs": [],
   "source": [
    "ds4['eta_filt'] =(('j','i'), gf(ds4.SSH,5,mode = 'nearest'))\n",
    "grid = xgcm.Grid(ds, periodic=False, metrics=metrics)\n",
    "ds4['eta_dx'] = grid.derivative(ds4.eta_filt, 'X', boundary='extend')\n",
    "ds4['eta_dy'] = grid.derivative(ds4.eta_filt, 'Y', boundary='extend')\n",
    "ds4['eta_dx_abs'] = np.sqrt(grid.interp(ds4.eta_dx**2, 'X', boundary = 'extend') + \n",
    "                           grid.interp(ds4.eta_dy**2,'Y', boundary = 'extend')) # eta dx absolute value"
   ]
  },
  {
   "cell_type": "code",
   "execution_count": null,
   "metadata": {},
   "outputs": [],
   "source": [
    "central_lon = ds4.XC.mean().values\n",
    "central_lat = ds4.YC.mean().values\n",
    "\n",
    "fig = plt.figure(figsize=(13, 10))\n",
    "ax = fig.add_axes([0, 0.02, 1, 0.91],\n",
    "                  projection=ccrs.Orthographic(central_lon, central_lat))\n",
    "ds4.eta_dx_abs.plot(ax=ax, x='XC', y='YC',  robust=True, transform=ccrs.PlateCarree(),\n",
    "            cbar_kwargs={'pad':0.01,'aspect': 30}, rasterized=True)\n",
    "\n",
    "ax.set_title(r'Gradiant Absolute time 4')\n"
   ]
  },
  {
   "cell_type": "code",
   "execution_count": null,
   "metadata": {},
   "outputs": [],
   "source": [
    "ds5 = ds_time.isel(time = 5)\n",
    "central_lon = ds5.XC.mean().values\n",
    "central_lat = ds5.YC.mean().values\n",
    "\n",
    "fig = plt.figure(figsize=(13, 10))\n",
    "ax = fig.add_axes([0, 0.02, 1, 0.91],\n",
    "                  projection=ccrs.Orthographic(central_lon, central_lat))\n",
    "ds5.zeta.plot(ax=ax, x='XG', y='YG',  robust=True, transform=ccrs.PlateCarree(),\n",
    "            cbar_kwargs={'pad':0.01,'aspect': 30}, rasterized=True)\n",
    "\n",
    "ax.set_title(r'Vorticity time 5')"
   ]
  },
  {
   "cell_type": "code",
   "execution_count": null,
   "metadata": {},
   "outputs": [],
   "source": [
    "ds6 = ds_time.isel(time = 6)\n",
    "central_lon = ds.XC.mean().values\n",
    "central_lat = ds.YC.mean().values\n",
    "\n",
    "fig = plt.figure(figsize=(13, 10))\n",
    "ax = fig.add_axes([0, 0.02, 1, 0.91],\n",
    "                  projection=ccrs.Orthographic(central_lon, central_lat))\n",
    "ds6.zeta.plot(ax=ax, x='XG', y='YG',  robust=True, transform=ccrs.PlateCarree(),\n",
    "            cbar_kwargs={'pad':0.01,'aspect': 30}, rasterized=True)\n",
    "\n",
    "ax.set_title(r'Vorticity time 6')"
   ]
  },
  {
   "cell_type": "code",
   "execution_count": null,
   "metadata": {},
   "outputs": [],
   "source": [
    "ds6['eta_filt'] =(('j','i'), gf(ds6.SSH,5,mode = 'nearest'))\n",
    "grid = xgcm.Grid(ds, periodic=False, metrics=metrics)\n",
    "ds6['eta_dx'] = grid.derivative(ds6.eta_filt, 'X', boundary='extend')\n",
    "ds6['eta_dy'] = grid.derivative(ds6.eta_filt, 'Y', boundary='extend')\n",
    "ds6['eta_dx_abs'] = np.sqrt(grid.interp(ds6.eta_dx**2, 'X', boundary = 'extend') + \n",
    "                           grid.interp(ds6.eta_dy**2,'Y', boundary = 'extend')) # eta dx absolute value"
   ]
  },
  {
   "cell_type": "code",
   "execution_count": null,
   "metadata": {},
   "outputs": [],
   "source": [
    "central_lon = ds6.XC.mean().values\n",
    "central_lat = ds6.YC.mean().values\n",
    "\n",
    "fig = plt.figure(figsize=(13, 10))\n",
    "ax = fig.add_axes([0, 0.02, 1, 0.91],\n",
    "                  projection=ccrs.Orthographic(central_lon, central_lat))\n",
    "ds6.eta_dx_abs.plot(ax=ax, x='XC', y='YC',  robust=True, transform=ccrs.PlateCarree(),\n",
    "            cbar_kwargs={'pad':0.01,'aspect': 30}, rasterized=True)\n",
    "\n",
    "ax.set_title(r'Gradiant Absolute time 6')\n"
   ]
  },
  {
   "cell_type": "code",
   "execution_count": null,
   "metadata": {},
   "outputs": [],
   "source": [
    "ds7 = ds_time.isel(time = 7)\n",
    "central_lon = ds5.XC.mean().values\n",
    "central_lat = ds5.YC.mean().values\n",
    "\n",
    "fig = plt.figure(figsize=(13, 10))\n",
    "ax = fig.add_axes([0, 0.02, 1, 0.91],\n",
    "                  projection=ccrs.Orthographic(central_lon, central_lat))\n",
    "ds7.zeta.plot(ax=ax, x='XG', y='YG',  robust=True, transform=ccrs.PlateCarree(),\n",
    "            cbar_kwargs={'pad':0.01,'aspect': 30}, rasterized=True)\n",
    "\n",
    "ax.set_title(r'Vorticity time 7')\n",
    "plt.savefig('vorticity_time7')"
   ]
  },
  {
   "cell_type": "code",
   "execution_count": null,
   "metadata": {},
   "outputs": [],
   "source": [
    "ds8 = ds_time.isel(time = 8)\n",
    "central_lon = ds.XC.mean().values\n",
    "central_lat = ds.YC.mean().values\n",
    "\n",
    "fig = plt.figure(figsize=(13, 10))\n",
    "ax = fig.add_axes([0, 0.02, 1, 0.91],\n",
    "                  projection=ccrs.Orthographic(central_lon, central_lat))\n",
    "ds8.zeta.plot(ax=ax, x='XG', y='YG',  robust=True, transform=ccrs.PlateCarree(),\n",
    "            cbar_kwargs={'pad':0.01,'aspect': 30}, rasterized=True)\n",
    "\n",
    "ax.set_title(r'Vorticity time 8')"
   ]
  },
  {
   "cell_type": "code",
   "execution_count": null,
   "metadata": {},
   "outputs": [],
   "source": [
    "ds8['eta_filt'] =(('j','i'), gf(ds8.SSH,5,mode = 'nearest'))\n",
    "grid = xgcm.Grid(ds, periodic=False, metrics=metrics)\n",
    "ds8['eta_dx'] = grid.derivative(ds8.eta_filt, 'X', boundary='extend')\n",
    "ds8['eta_dy'] = grid.derivative(ds8.eta_filt, 'Y', boundary='extend')\n",
    "ds8['eta_dx_abs'] = np.sqrt(grid.interp(ds8.eta_dx**2, 'X', boundary = 'extend') + \n",
    "                           grid.interp(ds8.eta_dy**2,'Y', boundary = 'extend')) # eta dx absolute value\n",
    "central_lon = ds8.XC.mean().values\n",
    "central_lat = ds8.YC.mean().values\n",
    "\n",
    "fig = plt.figure(figsize=(13, 10))\n",
    "ax = fig.add_axes([0, 0.02, 1, 0.91],\n",
    "                  projection=ccrs.Orthographic(central_lon, central_lat))\n",
    "ds8.eta_dx_abs.plot(ax=ax, x='XC', y='YC',  robust=True, transform=ccrs.PlateCarree(),\n",
    "            cbar_kwargs={'pad':0.01,'aspect': 30}, rasterized=True)\n",
    "\n",
    "ax.set_title(r'Gradiant Absolute time 8')"
   ]
  },
  {
   "cell_type": "code",
   "execution_count": null,
   "metadata": {},
   "outputs": [],
   "source": [
    "ds9 = ds_time.isel(time = 9)\n",
    "central_lon = ds5.XC.mean().values\n",
    "central_lat = ds5.YC.mean().values\n",
    "\n",
    "fig = plt.figure(figsize=(13, 10))\n",
    "ax = fig.add_axes([0, 0.02, 1, 0.91],\n",
    "                  projection=ccrs.Orthographic(central_lon, central_lat))\n",
    "ds9.zeta.plot(ax=ax, x='XG', y='YG',  robust=True, transform=ccrs.PlateCarree(),\n",
    "            cbar_kwargs={'pad':0.01,'aspect': 30}, rasterized=True)\n",
    "\n",
    "ax.set_title(r'Vorticity time 9')\n",
    "plt.savefig('vorticity_time9')"
   ]
  },
  {
   "cell_type": "code",
   "execution_count": null,
   "metadata": {},
   "outputs": [],
   "source": [
    "ds10 = ds_time.isel(time = 10)\n",
    "central_lon = ds.XC.mean().values\n",
    "central_lat = ds.YC.mean().values\n",
    "\n",
    "fig = plt.figure(figsize=(13, 10))\n",
    "ax = fig.add_axes([0, 0.02, 1, 0.91],\n",
    "                  projection=ccrs.Orthographic(central_lon, central_lat))\n",
    "ds10.zeta.plot(ax=ax, x='XG', y='YG',  robust=True, transform=ccrs.PlateCarree(),\n",
    "            cbar_kwargs={'pad':0.01,'aspect': 30}, rasterized=True)\n",
    "\n",
    "ax.set_title(r'Vorticity time 10')\n"
   ]
  },
  {
   "cell_type": "code",
   "execution_count": null,
   "metadata": {},
   "outputs": [],
   "source": [
    "ds10['eta_filt'] =(('j','i'), gf(ds10.SSH,5,mode = 'nearest'))\n",
    "grid = xgcm.Grid(ds, periodic=False, metrics=metrics)\n",
    "ds10['eta_dx'] = grid.derivative(ds10.eta_filt, 'X', boundary='extend')\n",
    "ds10['eta_dy'] = grid.derivative(ds10.eta_filt, 'Y', boundary='extend')\n",
    "ds10['eta_dx_abs'] = np.sqrt(grid.interp(ds10.eta_dx**2, 'X', boundary = 'extend') + \n",
    "                           grid.interp(ds10.eta_dy**2,'Y', boundary = 'extend')) # eta dx absolute value\n",
    "central_lon = ds10.XC.mean().values\n",
    "central_lat = ds10.YC.mean().values\n",
    "\n",
    "fig = plt.figure(figsize=(13, 10))\n",
    "ax = fig.add_axes([0, 0.02, 1, 0.91],\n",
    "                  projection=ccrs.Orthographic(central_lon, central_lat))\n",
    "ds10.eta_dx_abs.plot(ax=ax, x='XC', y='YC',  robust=True, transform=ccrs.PlateCarree(),\n",
    "            cbar_kwargs={'pad':0.01,'aspect': 30}, rasterized=True)\n",
    "\n",
    "ax.set_title(r'Gradiant Absolute time 10')\n",
    "plt.savefig('eta_abs_time10.png')"
   ]
  },
  {
   "cell_type": "code",
   "execution_count": null,
   "metadata": {},
   "outputs": [],
   "source": [
    "ds11 = ds_time.isel(time = 11)\n",
    "central_lon = ds5.XC.mean().values\n",
    "central_lat = ds5.YC.mean().values\n",
    "\n",
    "fig = plt.figure(figsize=(13, 10))\n",
    "ax = fig.add_axes([0, 0.02, 1, 0.91],\n",
    "                  projection=ccrs.Orthographic(central_lon, central_lat))\n",
    "ds11.zeta.plot(ax=ax, x='XG', y='YG',  robust=True, transform=ccrs.PlateCarree(),\n",
    "            cbar_kwargs={'pad':0.01,'aspect': 30}, rasterized=True)\n",
    "\n",
    "ax.set_title(r'Vorticity time 11')\n",
    "plt.savefig('vorticity_time11')"
   ]
  },
  {
   "cell_type": "code",
   "execution_count": null,
   "metadata": {},
   "outputs": [],
   "source": [
    "ds12 = ds_time.isel(time = 12)\n",
    "central_lon = ds.XC.mean().values\n",
    "central_lat = ds.YC.mean().values\n",
    "\n",
    "fig = plt.figure(figsize=(13, 10))\n",
    "ax = fig.add_axes([0, 0.02, 1, 0.91],\n",
    "                  projection=ccrs.Orthographic(central_lon, central_lat))\n",
    "ds12.zeta.plot(ax=ax, x='XG', y='YG',  robust=True, transform=ccrs.PlateCarree(),\n",
    "            cbar_kwargs={'pad':0.01,'aspect': 30}, rasterized=True)\n",
    "\n",
    "ax.set_title(r'Vorticity time 12')\n"
   ]
  },
  {
   "cell_type": "code",
   "execution_count": null,
   "metadata": {},
   "outputs": [],
   "source": [
    "ds12['eta_filt'] =(('j','i'), gf(ds12.SSH,5,mode = 'nearest'))\n",
    "grid = xgcm.Grid(ds, periodic=False, metrics=metrics)\n",
    "ds12['eta_dx'] = grid.derivative(ds12.eta_filt, 'X', boundary='extend')\n",
    "ds12['eta_dy'] = grid.derivative(ds12.eta_filt, 'Y', boundary='extend')\n",
    "ds12['eta_dx_abs'] = np.sqrt(grid.interp(ds12.eta_dx**2, 'X', boundary = 'extend') + \n",
    "                           grid.interp(ds12.eta_dy**2,'Y', boundary = 'extend')) # eta dx absolute value\n",
    "central_lon = ds12.XC.mean().values\n",
    "central_lat = ds12.YC.mean().values\n",
    "\n",
    "fig = plt.figure(figsize=(13, 10))\n",
    "ax = fig.add_axes([0, 0.02, 1, 0.91],\n",
    "                  projection=ccrs.Orthographic(central_lon, central_lat))\n",
    "ds12.eta_dx_abs.plot(ax=ax, x='XC', y='YC',  robust=True, transform=ccrs.PlateCarree(),\n",
    "            cbar_kwargs={'pad':0.01,'aspect': 30}, rasterized=True)\n",
    "\n",
    "ax.set_title(r'Gradiant Absolute time 12')\n",
    "plt.savefig('eta_abs_time12.png')"
   ]
  },
  {
   "cell_type": "code",
   "execution_count": null,
   "metadata": {},
   "outputs": [],
   "source": [
    "ds13 = ds_time.isel(time = 13)\n",
    "central_lon = ds5.XC.mean().values\n",
    "central_lat = ds5.YC.mean().values\n",
    "\n",
    "fig = plt.figure(figsize=(13, 10))\n",
    "ax = fig.add_axes([0, 0.02, 1, 0.91],\n",
    "                  projection=ccrs.Orthographic(central_lon, central_lat))\n",
    "ds13.zeta.plot(ax=ax, x='XG', y='YG',  robust=True, transform=ccrs.PlateCarree(),\n",
    "            cbar_kwargs={'pad':0.01,'aspect': 30}, rasterized=True)\n",
    "\n",
    "ax.set_title(r'Vorticity time 13')\n",
    "plt.savefig('vorticity_time13')"
   ]
  },
  {
   "cell_type": "code",
   "execution_count": null,
   "metadata": {},
   "outputs": [],
   "source": [
    "ds14 = ds_time.isel(time = 14)\n",
    "central_lon = ds.XC.mean().values\n",
    "central_lat = ds.YC.mean().values\n",
    "\n",
    "fig = plt.figure(figsize=(13, 10))\n",
    "ax = fig.add_axes([0, 0.02, 1, 0.91],\n",
    "                  projection=ccrs.Orthographic(central_lon, central_lat))\n",
    "ds14.zeta.plot(ax=ax, x='XG', y='YG',  robust=True, transform=ccrs.PlateCarree(),\n",
    "            cbar_kwargs={'pad':0.01,'aspect': 30}, rasterized=True)\n",
    "\n",
    "ax.set_title(r'Vorticity time 14')\n"
   ]
  },
  {
   "cell_type": "code",
   "execution_count": null,
   "metadata": {},
   "outputs": [],
   "source": [
    "ds14['eta_filt'] =(('j','i'), gf(ds14.SSH,5,mode = 'nearest'))\n",
    "grid = xgcm.Grid(ds, periodic=False, metrics=metrics)\n",
    "ds14['eta_dx'] = grid.derivative(ds14.eta_filt, 'X', boundary='extend')\n",
    "ds14['eta_dy'] = grid.derivative(ds14.eta_filt, 'Y', boundary='extend')\n",
    "ds14['eta_dx_abs'] = np.sqrt(grid.interp(ds14.eta_dx**2, 'X', boundary = 'extend') + \n",
    "                           grid.interp(ds14.eta_dy**2,'Y', boundary = 'extend')) # eta dx absolute value\n",
    "central_lon = ds14.XC.mean().values\n",
    "central_lat = ds14.YC.mean().values\n",
    "\n",
    "fig = plt.figure(figsize=(13, 10))\n",
    "ax = fig.add_axes([0, 0.02, 1, 0.91],\n",
    "                  projection=ccrs.Orthographic(central_lon, central_lat))\n",
    "ds14.eta_dx_abs.plot(ax=ax, x='XC', y='YC',  robust=True, transform=ccrs.PlateCarree(),\n",
    "            cbar_kwargs={'pad':0.01,'aspect': 30}, rasterized=True)\n",
    "\n",
    "ax.set_title(r'Gradiant Absolute time 14')\n",
    "plt.savefig('eta_abs_time14.png')"
   ]
  },
  {
   "cell_type": "code",
   "execution_count": null,
   "metadata": {},
   "outputs": [],
   "source": [
    "ds15 = ds_time.isel(time = 15)\n",
    "central_lon = ds.XC.mean().values\n",
    "central_lat = ds.YC.mean().values\n",
    "\n",
    "fig = plt.figure(figsize=(13, 10))\n",
    "ax = fig.add_axes([0, 0.02, 1, 0.91],\n",
    "                  projection=ccrs.Orthographic(central_lon, central_lat))\n",
    "ds15.zeta.plot(ax=ax, x='XG', y='YG',  robust=True, transform=ccrs.PlateCarree(),\n",
    "            cbar_kwargs={'pad':0.01,'aspect': 30}, rasterized=True)\n",
    "\n",
    "ax.set_title(r'Vorticity time 15')\n",
    "plt.savefig('vorticity_time15')"
   ]
  },
  {
   "cell_type": "code",
   "execution_count": null,
   "metadata": {},
   "outputs": [],
   "source": [
    "ds16 = ds_time.isel(time = 16)\n",
    "central_lon = ds.XC.mean().values\n",
    "central_lat = ds.YC.mean().values\n",
    "\n",
    "fig = plt.figure(figsize=(13, 10))\n",
    "ax = fig.add_axes([0, 0.02, 1, 0.91],\n",
    "                  projection=ccrs.Orthographic(central_lon, central_lat))\n",
    "ds16.zeta.plot(ax=ax, x='XG', y='YG',  robust=True, transform=ccrs.PlateCarree(),\n",
    "            cbar_kwargs={'pad':0.01,'aspect': 30}, rasterized=True)\n",
    "\n",
    "ax.set_title(r'Vorticity time 16')\n"
   ]
  },
  {
   "cell_type": "code",
   "execution_count": null,
   "metadata": {},
   "outputs": [],
   "source": [
    "ds16['eta_filt'] =(('j','i'), gf(ds16.SSH,5,mode = 'nearest'))\n",
    "grid = xgcm.Grid(ds, periodic=False, metrics=metrics)\n",
    "ds16['eta_dx'] = grid.derivative(ds16.eta_filt, 'X', boundary='extend')\n",
    "ds16['eta_dy'] = grid.derivative(ds16.eta_filt, 'Y', boundary='extend')\n",
    "ds16['eta_dx_abs'] = np.sqrt(grid.interp(ds16.eta_dx**2, 'X', boundary = 'extend') + \n",
    "                           grid.interp(ds16.eta_dy**2,'Y', boundary = 'extend')) # eta dx absolute value\n",
    "central_lon = ds16.XC.mean().values\n",
    "central_lat = ds16.YC.mean().values\n",
    "\n",
    "fig = plt.figure(figsize=(13, 10))\n",
    "ax = fig.add_axes([0, 0.02, 1, 0.91],\n",
    "                  projection=ccrs.Orthographic(central_lon, central_lat))\n",
    "ds16.eta_dx_abs.plot(ax=ax, x='XC', y='YC',  robust=True, transform=ccrs.PlateCarree(),\n",
    "            cbar_kwargs={'pad':0.01,'aspect': 30}, rasterized=True)\n",
    "\n",
    "ax.set_title(r'Gradiant Absolute time 16')\n",
    "plt.savefig('eta_abs_time16.png')"
   ]
  },
  {
   "cell_type": "code",
   "execution_count": null,
   "metadata": {},
   "outputs": [],
   "source": [
    "ds17 = ds_time.isel(time = 17)\n",
    "central_lon = ds.XC.mean().values\n",
    "central_lat = ds.YC.mean().values\n",
    "\n",
    "fig = plt.figure(figsize=(13, 10))\n",
    "ax = fig.add_axes([0, 0.02, 1, 0.91],\n",
    "                  projection=ccrs.Orthographic(central_lon, central_lat))\n",
    "ds17.zeta.plot(ax=ax, x='XG', y='YG',  robust=True, transform=ccrs.PlateCarree(),\n",
    "            cbar_kwargs={'pad':0.01,'aspect': 30}, rasterized=True)\n",
    "\n",
    "ax.set_title(r'Vorticity time 17')\n",
    "plt.savefig('vorticity_time17')"
   ]
  },
  {
   "cell_type": "code",
   "execution_count": null,
   "metadata": {},
   "outputs": [],
   "source": [
    "ds18 = ds_time.isel(time = 18)\n",
    "central_lon = ds.XC.mean().values\n",
    "central_lat = ds.YC.mean().values\n",
    "\n",
    "fig = plt.figure(figsize=(13, 10))\n",
    "ax = fig.add_axes([0, 0.02, 1, 0.91],\n",
    "                  projection=ccrs.Orthographic(central_lon, central_lat))\n",
    "ds18.zeta.plot(ax=ax, x='XG', y='YG',  robust=True, transform=ccrs.PlateCarree(),\n",
    "            cbar_kwargs={'pad':0.01,'aspect': 30}, rasterized=True)\n",
    "\n",
    "ax.set_title(r'Vorticity time 18')\n"
   ]
  },
  {
   "cell_type": "code",
   "execution_count": null,
   "metadata": {},
   "outputs": [],
   "source": [
    "ds18['eta_filt'] =(('j','i'), gf(ds18.SSH,5,mode = 'nearest'))\n",
    "grid = xgcm.Grid(ds, periodic=False, metrics=metrics)\n",
    "ds18['eta_dx'] = grid.derivative(ds18.eta_filt, 'X', boundary='extend')\n",
    "ds18['eta_dy'] = grid.derivative(ds18.eta_filt, 'Y', boundary='extend')\n",
    "ds18['eta_dx_abs'] = np.sqrt(grid.interp(ds18.eta_dx**2, 'X', boundary = 'extend') + \n",
    "                           grid.interp(ds18.eta_dy**2,'Y', boundary = 'extend')) # eta dx absolute value\n",
    "central_lon = ds18.XC.mean().values\n",
    "central_lat = ds18.YC.mean().values\n",
    "\n",
    "fig = plt.figure(figsize=(13, 10))\n",
    "ax = fig.add_axes([0, 0.02, 1, 0.91],\n",
    "                  projection=ccrs.Orthographic(central_lon, central_lat))\n",
    "ds18.eta_dx_abs.plot(ax=ax, x='XC', y='YC',  robust=True, transform=ccrs.PlateCarree(),\n",
    "            cbar_kwargs={'pad':0.01,'aspect': 30}, rasterized=True)\n",
    "\n",
    "ax.set_title(r'Gradiant Absolute time 18')\n",
    "plt.savefig('eta_abs_time18.png')"
   ]
  },
  {
   "cell_type": "code",
   "execution_count": null,
   "metadata": {},
   "outputs": [],
   "source": [
    "ds19 = ds_time.isel(time = 19)\n",
    "central_lon = ds.XC.mean().values\n",
    "central_lat = ds.YC.mean().values\n",
    "\n",
    "fig = plt.figure(figsize=(13, 10))\n",
    "ax = fig.add_axes([0, 0.02, 1, 0.91],\n",
    "                  projection=ccrs.Orthographic(central_lon, central_lat))\n",
    "ds19.zeta.plot(ax=ax, x='XG', y='YG',  robust=True, transform=ccrs.PlateCarree(),\n",
    "            cbar_kwargs={'pad':0.01,'aspect': 30}, rasterized=True)\n",
    "\n",
    "ax.set_title(r'Vorticity time 19')\n",
    "plt.savefig('vorticity_time19')"
   ]
  },
  {
   "cell_type": "code",
   "execution_count": null,
   "metadata": {},
   "outputs": [],
   "source": [
    "ds20 = ds_time.isel(time = 20)\n",
    "central_lon = ds.XC.mean().values\n",
    "central_lat = ds.YC.mean().values\n",
    "\n",
    "fig = plt.figure(figsize=(13, 10))\n",
    "ax = fig.add_axes([0, 0.02, 1, 0.91],\n",
    "                  projection=ccrs.Orthographic(central_lon, central_lat))\n",
    "ds20.zeta.plot(ax=ax, x='XG', y='YG',  robust=True, transform=ccrs.PlateCarree(),\n",
    "            cbar_kwargs={'pad':0.01,'aspect': 30}, rasterized=True)\n",
    "\n",
    "ax.set_title(r'Vorticity time 20')\n"
   ]
  },
  {
   "cell_type": "code",
   "execution_count": null,
   "metadata": {},
   "outputs": [],
   "source": [
    "ds20['eta_filt'] =(('j','i'), gf(ds20.SSH,5,mode = 'nearest'))\n",
    "grid = xgcm.Grid(ds, periodic=False, metrics=metrics)\n",
    "ds20['eta_dx'] = grid.derivative(ds20.eta_filt, 'X', boundary='extend')\n",
    "ds20['eta_dy'] = grid.derivative(ds20.eta_filt, 'Y', boundary='extend')\n",
    "ds20['eta_dx_abs'] = np.sqrt(grid.interp(ds20.eta_dx**2, 'X', boundary = 'extend') + \n",
    "                           grid.interp(ds20.eta_dy**2,'Y', boundary = 'extend')) # eta dx absolute value\n",
    "central_lon = ds20.XC.mean().values\n",
    "central_lat = ds20.YC.mean().values\n",
    "\n",
    "fig = plt.figure(figsize=(13, 10))\n",
    "ax = fig.add_axes([0, 0.02, 1, 0.91],\n",
    "                  projection=ccrs.Orthographic(central_lon, central_lat))\n",
    "ds20.eta_dx_abs.plot(ax=ax, x='XC', y='YC',  robust=True, transform=ccrs.PlateCarree(),\n",
    "            cbar_kwargs={'pad':0.01,'aspect': 30}, rasterized=True)\n",
    "\n",
    "ax.set_title(r'Gradiant Absolute time 20')\n",
    "plt.savefig('eta_abs_time20.png')"
   ]
  },
  {
   "cell_type": "code",
   "execution_count": null,
   "metadata": {},
   "outputs": [],
   "source": [
    "ds21 = ds_time.isel(time = 21)\n",
    "central_lon = ds.XC.mean().values\n",
    "central_lat = ds.YC.mean().values\n",
    "\n",
    "fig = plt.figure(figsize=(13, 10))\n",
    "ax = fig.add_axes([0, 0.02, 1, 0.91],\n",
    "                  projection=ccrs.Orthographic(central_lon, central_lat))\n",
    "ds21.zeta.plot(ax=ax, x='XG', y='YG',  robust=True, transform=ccrs.PlateCarree(),\n",
    "            cbar_kwargs={'pad':0.01,'aspect': 30}, rasterized=True)\n",
    "\n",
    "ax.set_title(r'Vorticity time 21')\n",
    "plt.savefig('vorticity_time21')"
   ]
  },
  {
   "cell_type": "code",
   "execution_count": null,
   "metadata": {},
   "outputs": [],
   "source": [
    "ds22 = ds_time.isel(time = 22)\n",
    "central_lon = ds.XC.mean().values\n",
    "central_lat = ds.YC.mean().values\n",
    "\n",
    "fig = plt.figure(figsize=(13, 10))\n",
    "ax = fig.add_axes([0, 0.02, 1, 0.91],\n",
    "                  projection=ccrs.Orthographic(central_lon, central_lat))\n",
    "ds22.zeta.plot(ax=ax, x='XG', y='YG',  robust=True, transform=ccrs.PlateCarree(),\n",
    "            cbar_kwargs={'pad':0.01,'aspect': 30}, rasterized=True)\n",
    "\n",
    "ax.set_title(r'Vorticity time 22')"
   ]
  },
  {
   "cell_type": "code",
   "execution_count": null,
   "metadata": {},
   "outputs": [],
   "source": [
    "ds22['eta_filt'] =(('j','i'), gf(ds22.SSH,5,mode = 'nearest'))\n",
    "grid = xgcm.Grid(ds, periodic=False, metrics=metrics)\n",
    "ds22['eta_dx'] = grid.derivative(ds22.eta_filt, 'X', boundary='extend')\n",
    "ds22['eta_dy'] = grid.derivative(ds22.eta_filt, 'Y', boundary='extend')\n",
    "ds22['eta_dx_abs'] = np.sqrt(grid.interp(ds22.eta_dx**2, 'X', boundary = 'extend') + \n",
    "                           grid.interp(ds22.eta_dy**2,'Y', boundary = 'extend')) # eta dx absolute value\n",
    "central_lon = ds22.XC.mean().values\n",
    "central_lat = ds22.YC.mean().values\n",
    "\n",
    "fig = plt.figure(figsize=(13, 10))\n",
    "ax = fig.add_axes([0, 0.02, 1, 0.91],\n",
    "                  projection=ccrs.Orthographic(central_lon, central_lat))\n",
    "ds22.eta_dx_abs.plot(ax=ax, x='XC', y='YC',  robust=True, transform=ccrs.PlateCarree(),\n",
    "            cbar_kwargs={'pad':0.01,'aspect': 30}, rasterized=True)\n",
    "\n",
    "ax.set_title(r'Gradiant Absolute time 22')\n",
    "plt.savefig('eta_abs_time22.png')"
   ]
  },
  {
   "cell_type": "code",
   "execution_count": null,
   "metadata": {},
   "outputs": [],
   "source": [
    "ds23 = ds_time.isel(time = 23)\n",
    "central_lon = ds.XC.mean().values\n",
    "central_lat = ds.YC.mean().values\n",
    "\n",
    "fig = plt.figure(figsize=(13, 10))\n",
    "ax = fig.add_axes([0, 0.02, 1, 0.91],\n",
    "                  projection=ccrs.Orthographic(central_lon, central_lat))\n",
    "ds23.zeta.plot(ax=ax, x='XG', y='YG',  robust=True, transform=ccrs.PlateCarree(),\n",
    "            cbar_kwargs={'pad':0.01,'aspect': 30}, rasterized=True)\n",
    "\n",
    "ax.set_title(r'Vorticity time 23')\n",
    "plt.savefig('vorticity_time23')"
   ]
  },
  {
   "cell_type": "code",
   "execution_count": null,
   "metadata": {},
   "outputs": [],
   "source": [
    "ds24 = ds_time.isel(time = 24)\n",
    "central_lon = ds.XC.mean().values\n",
    "central_lat = ds.YC.mean().values\n",
    "\n",
    "fig = plt.figure(figsize=(13, 10))\n",
    "ax = fig.add_axes([0, 0.02, 1, 0.91],\n",
    "                  projection=ccrs.Orthographic(central_lon, central_lat))\n",
    "ds24.zeta.plot(ax=ax, x='XG', y='YG',  robust=True, transform=ccrs.PlateCarree(),\n",
    "            cbar_kwargs={'pad':0.01,'aspect': 30}, rasterized=True)\n",
    "\n",
    "ax.set_title(r'Vorticity time 24')"
   ]
  },
  {
   "cell_type": "code",
   "execution_count": null,
   "metadata": {},
   "outputs": [],
   "source": [
    "ds24['eta_filt'] =(('j','i'), gf(ds24.SSH,5,mode = 'nearest'))\n",
    "grid = xgcm.Grid(ds, periodic=False, metrics=metrics)\n",
    "ds24['eta_dx'] = grid.derivative(ds24.eta_filt, 'X', boundary='extend')\n",
    "ds24['eta_dy'] = grid.derivative(ds24.eta_filt, 'Y', boundary='extend')\n",
    "ds24['eta_dx_abs'] = np.sqrt(grid.interp(ds24.eta_dx**2, 'X', boundary = 'extend') + \n",
    "                           grid.interp(ds24.eta_dy**2,'Y', boundary = 'extend')) # eta dx absolute value\n",
    "central_lon = ds24.XC.mean().values\n",
    "central_lat = ds24.YC.mean().values\n",
    "\n",
    "fig = plt.figure(figsize=(13, 10))\n",
    "ax = fig.add_axes([0, 0.02, 1, 0.91],\n",
    "                  projection=ccrs.Orthographic(central_lon, central_lat))\n",
    "ds24.eta_dx_abs.plot(ax=ax, x='XC', y='YC',  robust=True, transform=ccrs.PlateCarree(),\n",
    "            cbar_kwargs={'pad':0.01,'aspect': 30}, rasterized=True)\n",
    "\n",
    "ax.set_title(r'Gradiant Absolute time 24')\n",
    "plt.savefig('eta_abs_time24.png')"
   ]
  },
  {
   "cell_type": "code",
   "execution_count": null,
   "metadata": {},
   "outputs": [],
   "source": [
    "ds25 = ds_time.isel(time = 25)\n",
    "central_lon = ds.XC.mean().values\n",
    "central_lat = ds.YC.mean().values\n",
    "\n",
    "fig = plt.figure(figsize=(13, 10))\n",
    "ax = fig.add_axes([0, 0.02, 1, 0.91],\n",
    "                  projection=ccrs.Orthographic(central_lon, central_lat))\n",
    "ds25.zeta.plot(ax=ax, x='XG', y='YG',  robust=True, transform=ccrs.PlateCarree(),\n",
    "            cbar_kwargs={'pad':0.01,'aspect': 30}, rasterized=True)\n",
    "\n",
    "ax.set_title(r'Vorticity time 25')\n",
    "plt.savefig('vorticity_time25')"
   ]
  },
  {
   "cell_type": "code",
   "execution_count": null,
   "metadata": {},
   "outputs": [],
   "source": [
    "ds26 = ds_time.isel(time = 26)\n",
    "central_lon = ds.XC.mean().values\n",
    "central_lat = ds.YC.mean().values\n",
    "\n",
    "fig = plt.figure(figsize=(13, 10))\n",
    "ax = fig.add_axes([0, 0.02, 1, 0.91],\n",
    "                  projection=ccrs.Orthographic(central_lon, central_lat))\n",
    "ds26.zeta.plot(ax=ax, x='XG', y='YG',  robust=True, transform=ccrs.PlateCarree(),\n",
    "            cbar_kwargs={'pad':0.01,'aspect': 30}, rasterized=True)\n",
    "\n",
    "ax.set_title(r'Vorticity time 26')"
   ]
  },
  {
   "cell_type": "code",
   "execution_count": null,
   "metadata": {},
   "outputs": [],
   "source": [
    "ds26['eta_filt'] =(('j','i'), gf(ds26.SSH,5,mode = 'nearest'))\n",
    "grid = xgcm.Grid(ds, periodic=False, metrics=metrics)\n",
    "ds26['eta_dx'] = grid.derivative(ds26.eta_filt, 'X', boundary='extend')\n",
    "ds26['eta_dy'] = grid.derivative(ds26.eta_filt, 'Y', boundary='extend')\n",
    "ds26['eta_dx_abs'] = np.sqrt(grid.interp(ds26.eta_dx**2, 'X', boundary = 'extend') + \n",
    "                           grid.interp(ds26.eta_dy**2,'Y', boundary = 'extend')) # eta dx absolute value\n",
    "central_lon = ds26.XC.mean().values\n",
    "central_lat = ds26.YC.mean().values\n",
    "\n",
    "fig = plt.figure(figsize=(13, 10))\n",
    "ax = fig.add_axes([0, 0.02, 1, 0.91],\n",
    "                  projection=ccrs.Orthographic(central_lon, central_lat))\n",
    "ds26.eta_dx_abs.plot(ax=ax, x='XC', y='YC',  robust=True, transform=ccrs.PlateCarree(),\n",
    "            cbar_kwargs={'pad':0.01,'aspect': 30}, rasterized=True)\n",
    "\n",
    "ax.set_title(r'Gradiant Absolute time 26')\n",
    "plt.savefig('eta_abs_time26.png')"
   ]
  },
  {
   "cell_type": "code",
   "execution_count": null,
   "metadata": {},
   "outputs": [],
   "source": [
    "ds27 = ds_time.isel(time = 27)\n",
    "central_lon = ds.XC.mean().values\n",
    "central_lat = ds.YC.mean().values\n",
    "\n",
    "fig = plt.figure(figsize=(13, 10))\n",
    "ax = fig.add_axes([0, 0.02, 1, 0.91],\n",
    "                  projection=ccrs.Orthographic(central_lon, central_lat))\n",
    "ds27.zeta.plot(ax=ax, x='XG', y='YG',  robust=True, transform=ccrs.PlateCarree(),\n",
    "            cbar_kwargs={'pad':0.01,'aspect': 30}, rasterized=True)\n",
    "\n",
    "ax.set_title(r'Vorticity time 27')\n",
    "plt.savefig('vorticity_time27')"
   ]
  },
  {
   "cell_type": "code",
   "execution_count": null,
   "metadata": {},
   "outputs": [],
   "source": [
    "ds28 = ds_time.isel(time = 28)\n",
    "central_lon = ds.XC.mean().values\n",
    "central_lat = ds.YC.mean().values\n",
    "\n",
    "fig = plt.figure(figsize=(13, 10))\n",
    "ax = fig.add_axes([0, 0.02, 1, 0.91],\n",
    "                  projection=ccrs.Orthographic(central_lon, central_lat))\n",
    "ds28.zeta.plot(ax=ax, x='XG', y='YG',  robust=True, transform=ccrs.PlateCarree(),\n",
    "            cbar_kwargs={'pad':0.01,'aspect': 30}, rasterized=True)\n",
    "\n",
    "ax.set_title(r'Vorticity time 28')"
   ]
  },
  {
   "cell_type": "code",
   "execution_count": null,
   "metadata": {},
   "outputs": [],
   "source": [
    "ds28['eta_filt'] =(('j','i'), gf(ds28.SSH,5,mode = 'nearest'))\n",
    "grid = xgcm.Grid(ds, periodic=False, metrics=metrics)\n",
    "ds28['eta_dx'] = grid.derivative(ds28.eta_filt, 'X', boundary='extend')\n",
    "ds28['eta_dy'] = grid.derivative(ds28.eta_filt, 'Y', boundary='extend')\n",
    "ds28['eta_dx_abs'] = np.sqrt(grid.interp(ds28.eta_dx**2, 'X', boundary = 'extend') + \n",
    "                           grid.interp(ds28.eta_dy**2,'Y', boundary = 'extend')) # eta dx absolute value\n",
    "central_lon = ds28.XC.mean().values\n",
    "central_lat = ds28.YC.mean().values\n",
    "\n",
    "fig = plt.figure(figsize=(13, 10))\n",
    "ax = fig.add_axes([0, 0.02, 1, 0.91],\n",
    "                  projection=ccrs.Orthographic(central_lon, central_lat))\n",
    "ds28.eta_dx_abs.plot(ax=ax, x='XC', y='YC',  robust=True, transform=ccrs.PlateCarree(),\n",
    "            cbar_kwargs={'pad':0.01,'aspect': 30}, rasterized=True)\n",
    "\n",
    "ax.set_title(r'Gradiant Absolute time 28')\n",
    "plt.savefig('eta_abs_time28.png')"
   ]
  },
  {
   "cell_type": "code",
   "execution_count": null,
   "metadata": {},
   "outputs": [],
   "source": [
    "ds29 = ds_time.isel(time = 29)\n",
    "central_lon = ds.XC.mean().values\n",
    "central_lat = ds.YC.mean().values\n",
    "\n",
    "fig = plt.figure(figsize=(13, 10))\n",
    "ax = fig.add_axes([0, 0.02, 1, 0.91],\n",
    "                  projection=ccrs.Orthographic(central_lon, central_lat))\n",
    "ds29.zeta.plot(ax=ax, x='XG', y='YG',  robust=True, transform=ccrs.PlateCarree(),\n",
    "            cbar_kwargs={'pad':0.01,'aspect': 30}, rasterized=True)\n",
    "\n",
    "ax.set_title(r'Vorticity time 29')\n",
    "plt.savefig('vorticity_time29')"
   ]
  },
  {
   "cell_type": "code",
   "execution_count": null,
   "metadata": {},
   "outputs": [],
   "source": [
    "ds30 = ds_time.isel(time = 30)\n",
    "central_lon = ds.XC.mean().values\n",
    "central_lat = ds.YC.mean().values\n",
    "\n",
    "fig = plt.figure(figsize=(13, 10))\n",
    "ax = fig.add_axes([0, 0.02, 1, 0.91],\n",
    "                  projection=ccrs.Orthographic(central_lon, central_lat))\n",
    "ds30.zeta.plot(ax=ax, x='XG', y='YG',  robust=True, transform=ccrs.PlateCarree(),\n",
    "            cbar_kwargs={'pad':0.01,'aspect': 30}, rasterized=True)\n",
    "\n",
    "ax.set_title(r'Vorticity time 30')"
   ]
  },
  {
   "cell_type": "code",
   "execution_count": null,
   "metadata": {},
   "outputs": [],
   "source": [
    "ds30['eta_filt'] =(('j','i'), gf(ds30.SSH,5,mode = 'nearest'))\n",
    "grid = xgcm.Grid(ds, periodic=False, metrics=metrics)\n",
    "ds30['eta_dx'] = grid.derivative(ds30.eta_filt, 'X', boundary='extend')\n",
    "ds30['eta_dy'] = grid.derivative(ds30.eta_filt, 'Y', boundary='extend')\n",
    "ds30['eta_dx_abs'] = np.sqrt(grid.interp(ds30.eta_dx**2, 'X', boundary = 'extend') + \n",
    "                           grid.interp(ds30.eta_dy**2,'Y', boundary = 'extend')) # eta dx absolute value\n",
    "central_lon = ds30.XC.mean().values\n",
    "central_lat = ds30.YC.mean().values\n",
    "\n",
    "fig = plt.figure(figsize=(13, 10))\n",
    "ax = fig.add_axes([0, 0.02, 1, 0.91],\n",
    "                  projection=ccrs.Orthographic(central_lon, central_lat))\n",
    "ds30.eta_dx_abs.plot(ax=ax, x='XC', y='YC',  robust=True, transform=ccrs.PlateCarree(),\n",
    "            cbar_kwargs={'pad':0.01,'aspect': 30}, rasterized=True)\n",
    "\n",
    "ax.set_title(r'Gradiant Absolute time 30')\n",
    "plt.savefig('eta_abs_time30.png')"
   ]
  },
  {
   "cell_type": "code",
   "execution_count": null,
   "metadata": {},
   "outputs": [],
   "source": [
    "ffmpeg -framerate 10 -pattern_type glob -i '*.png' -c:v libx264 -pix_fmt yuv420p out.mp4"
   ]
  }
 ],
 "metadata": {
  "kernelspec": {
   "display_name": "Python 3",
   "language": "python",
   "name": "python3"
  },
  "language_info": {
   "codemirror_mode": {
    "name": "ipython",
    "version": 3
   },
   "file_extension": ".py",
   "mimetype": "text/x-python",
   "name": "python",
   "nbconvert_exporter": "python",
   "pygments_lexer": "ipython3",
   "version": "3.8.5"
  }
 },
 "nbformat": 4,
 "nbformat_minor": 4
}
