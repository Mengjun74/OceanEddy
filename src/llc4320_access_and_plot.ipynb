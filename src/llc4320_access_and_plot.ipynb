{
 "cells": [
  {
   "cell_type": "markdown",
   "metadata": {},
   "source": [
    "# Access and plot LLC4320 from Google Cloud"
   ]
  },
  {
   "cell_type": "markdown",
   "metadata": {},
   "source": [
    "#### Most of the code used here was patched together from examples on the Pangeo website. I think Ryan Abernathy can be credited for most of it. <br>Don't worry about understanding the steps to get the data!!"
   ]
  },
  {
   "cell_type": "code",
   "execution_count": 1,
   "metadata": {},
   "outputs": [],
   "source": [
    "# import some packages\n",
    "import random\n",
    "import os\n",
    "import xarray as xr\n",
    "import numpy as np\n",
    "import xgcm # this is an xarray-based package to deal with GCM output\n",
    "from matplotlib import pyplot as plt\n",
    "from matplotlib import image\n",
    "import cmocean # this is a colormap package\n",
    "import cartopy.crs as ccrs # this is a mapping package\n",
    "%matplotlib inline"
   ]
  },
  {
   "cell_type": "markdown",
   "metadata": {},
   "source": [
    "#### Some of the steps below might require setting up a Google cloud account. If that's the case, I'll help you do that. \n",
    "I think there are instructions how to do that [here.](https://catalog.pangeo.io/browse/master/ocean/LLC4320/LLC4320_SSH)"
   ]
  },
  {
   "cell_type": "code",
   "execution_count": 4,
   "metadata": {},
   "outputs": [
    {
     "data": {
      "text/plain": [
       "['LLC4320_grid',\n",
       " 'LLC4320_SST',\n",
       " 'LLC4320_SSS',\n",
       " 'LLC4320_SSH',\n",
       " 'LLC4320_SSU',\n",
       " 'LLC4320_SSV']"
      ]
     },
     "execution_count": 4,
     "metadata": {},
     "output_type": "execute_result"
    }
   ],
   "source": [
    "from intake import open_catalog # this is a convenience package for data i/o\n",
    "cat = open_catalog(\"https://raw.githubusercontent.com/pangeo-data/pangeo-datastore/master/intake-catalogs/ocean/llc4320.yaml\")\n",
    "list(cat)"
   ]
  },
  {
   "cell_type": "markdown",
   "metadata": {},
   "source": [
    "#### Since the model files are huge, we are loading the ONLY THE GRID into a dask file (that's like an xarray data structure but can be used to parallelize):"
   ]
  },
  {
   "cell_type": "code",
   "execution_count": 5,
   "metadata": {},
   "outputs": [
    {
     "ename": "ValueError",
     "evalue": "No plugins loaded for this entry: zarr\nA listing of installable plugins can be found at https://intake.readthedocs.io/en/latest/plugin-directory.html .",
     "output_type": "error",
     "traceback": [
      "\u001b[0;31m---------------------------------------------------------------------------\u001b[0m",
      "\u001b[0;31mValueError\u001b[0m                                Traceback (most recent call last)",
      "\u001b[0;32m<ipython-input-5-633e7d94f243>\u001b[0m in \u001b[0;36m<module>\u001b[0;34m\u001b[0m\n\u001b[0;32m----> 1\u001b[0;31m \u001b[0mds\u001b[0m \u001b[0;34m=\u001b[0m \u001b[0mcat\u001b[0m\u001b[0;34m.\u001b[0m\u001b[0mLLC4320_grid\u001b[0m\u001b[0;34m.\u001b[0m\u001b[0mto_dask\u001b[0m\u001b[0;34m(\u001b[0m\u001b[0;34m)\u001b[0m\u001b[0;34m\u001b[0m\u001b[0;34m\u001b[0m\u001b[0m\n\u001b[0m\u001b[1;32m      2\u001b[0m \u001b[0mds\u001b[0m\u001b[0;34m\u001b[0m\u001b[0;34m\u001b[0m\u001b[0m\n",
      "\u001b[0;32m~/opt/anaconda3/lib/python3.8/site-packages/intake/catalog/base.py\u001b[0m in \u001b[0;36m__getattr__\u001b[0;34m(self, item)\u001b[0m\n\u001b[1;32m    342\u001b[0m             \u001b[0;31m# Fall back to __getitem__.\u001b[0m\u001b[0;34m\u001b[0m\u001b[0;34m\u001b[0m\u001b[0;34m\u001b[0m\u001b[0m\n\u001b[1;32m    343\u001b[0m             \u001b[0;32mtry\u001b[0m\u001b[0;34m:\u001b[0m\u001b[0;34m\u001b[0m\u001b[0;34m\u001b[0m\u001b[0m\n\u001b[0;32m--> 344\u001b[0;31m                 \u001b[0;32mreturn\u001b[0m \u001b[0mself\u001b[0m\u001b[0;34m[\u001b[0m\u001b[0mitem\u001b[0m\u001b[0;34m]\u001b[0m  \u001b[0;31m# triggers reload_on_change\u001b[0m\u001b[0;34m\u001b[0m\u001b[0;34m\u001b[0m\u001b[0m\n\u001b[0m\u001b[1;32m    345\u001b[0m             \u001b[0;32mexcept\u001b[0m \u001b[0mKeyError\u001b[0m\u001b[0;34m:\u001b[0m\u001b[0;34m\u001b[0m\u001b[0;34m\u001b[0m\u001b[0m\n\u001b[1;32m    346\u001b[0m                 \u001b[0;32mraise\u001b[0m \u001b[0mAttributeError\u001b[0m\u001b[0;34m(\u001b[0m\u001b[0mitem\u001b[0m\u001b[0;34m)\u001b[0m\u001b[0;34m\u001b[0m\u001b[0;34m\u001b[0m\u001b[0m\n",
      "\u001b[0;32m~/opt/anaconda3/lib/python3.8/site-packages/intake/catalog/base.py\u001b[0m in \u001b[0;36m__getitem__\u001b[0;34m(self, key)\u001b[0m\n\u001b[1;32m    392\u001b[0m             \u001b[0;32mif\u001b[0m \u001b[0me\u001b[0m\u001b[0;34m.\u001b[0m\u001b[0mcontainer\u001b[0m \u001b[0;34m==\u001b[0m \u001b[0;34m'catalog'\u001b[0m\u001b[0;34m:\u001b[0m\u001b[0;34m\u001b[0m\u001b[0;34m\u001b[0m\u001b[0m\n\u001b[1;32m    393\u001b[0m                 \u001b[0;32mreturn\u001b[0m \u001b[0me\u001b[0m\u001b[0;34m(\u001b[0m\u001b[0mname\u001b[0m\u001b[0;34m=\u001b[0m\u001b[0mkey\u001b[0m\u001b[0;34m)\u001b[0m\u001b[0;34m\u001b[0m\u001b[0;34m\u001b[0m\u001b[0m\n\u001b[0;32m--> 394\u001b[0;31m             \u001b[0;32mreturn\u001b[0m \u001b[0me\u001b[0m\u001b[0;34m(\u001b[0m\u001b[0;34m)\u001b[0m\u001b[0;34m\u001b[0m\u001b[0;34m\u001b[0m\u001b[0m\n\u001b[0m\u001b[1;32m    395\u001b[0m         \u001b[0;32mif\u001b[0m \u001b[0misinstance\u001b[0m\u001b[0;34m(\u001b[0m\u001b[0mkey\u001b[0m\u001b[0;34m,\u001b[0m \u001b[0mstr\u001b[0m\u001b[0;34m)\u001b[0m \u001b[0;32mand\u001b[0m \u001b[0;34m'.'\u001b[0m \u001b[0;32min\u001b[0m \u001b[0mkey\u001b[0m\u001b[0;34m:\u001b[0m\u001b[0;34m\u001b[0m\u001b[0;34m\u001b[0m\u001b[0m\n\u001b[1;32m    396\u001b[0m             \u001b[0mkey\u001b[0m \u001b[0;34m=\u001b[0m \u001b[0mkey\u001b[0m\u001b[0;34m.\u001b[0m\u001b[0msplit\u001b[0m\u001b[0;34m(\u001b[0m\u001b[0;34m'.'\u001b[0m\u001b[0;34m)\u001b[0m\u001b[0;34m\u001b[0m\u001b[0;34m\u001b[0m\u001b[0m\n",
      "\u001b[0;32m~/opt/anaconda3/lib/python3.8/site-packages/intake/catalog/entry.py\u001b[0m in \u001b[0;36m__call__\u001b[0;34m(self, persist, **kwargs)\u001b[0m\n\u001b[1;32m     75\u001b[0m             \u001b[0;32mraise\u001b[0m \u001b[0mValueError\u001b[0m\u001b[0;34m(\u001b[0m\u001b[0;34m'Persist value (%s) not understood'\u001b[0m \u001b[0;34m%\u001b[0m \u001b[0mpersist\u001b[0m\u001b[0;34m)\u001b[0m\u001b[0;34m\u001b[0m\u001b[0;34m\u001b[0m\u001b[0m\n\u001b[1;32m     76\u001b[0m         \u001b[0mpersist\u001b[0m \u001b[0;34m=\u001b[0m \u001b[0mpersist\u001b[0m \u001b[0;32mor\u001b[0m \u001b[0mself\u001b[0m\u001b[0;34m.\u001b[0m\u001b[0m_pmode\u001b[0m\u001b[0;34m\u001b[0m\u001b[0;34m\u001b[0m\u001b[0m\n\u001b[0;32m---> 77\u001b[0;31m         \u001b[0ms\u001b[0m \u001b[0;34m=\u001b[0m \u001b[0mself\u001b[0m\u001b[0;34m.\u001b[0m\u001b[0mget\u001b[0m\u001b[0;34m(\u001b[0m\u001b[0;34m**\u001b[0m\u001b[0mkwargs\u001b[0m\u001b[0;34m)\u001b[0m\u001b[0;34m\u001b[0m\u001b[0;34m\u001b[0m\u001b[0m\n\u001b[0m\u001b[1;32m     78\u001b[0m         \u001b[0;32mif\u001b[0m \u001b[0mpersist\u001b[0m \u001b[0;34m!=\u001b[0m \u001b[0;34m'never'\u001b[0m \u001b[0;32mand\u001b[0m \u001b[0misinstance\u001b[0m\u001b[0;34m(\u001b[0m\u001b[0ms\u001b[0m\u001b[0;34m,\u001b[0m \u001b[0mPersistMixin\u001b[0m\u001b[0;34m)\u001b[0m \u001b[0;32mand\u001b[0m \u001b[0ms\u001b[0m\u001b[0;34m.\u001b[0m\u001b[0mhas_been_persisted\u001b[0m\u001b[0;34m:\u001b[0m\u001b[0;34m\u001b[0m\u001b[0;34m\u001b[0m\u001b[0m\n\u001b[1;32m     79\u001b[0m             \u001b[0;32mfrom\u001b[0m \u001b[0;34m.\u001b[0m\u001b[0;34m.\u001b[0m\u001b[0mcontainer\u001b[0m\u001b[0;34m.\u001b[0m\u001b[0mpersist\u001b[0m \u001b[0;32mimport\u001b[0m \u001b[0mstore\u001b[0m\u001b[0;34m\u001b[0m\u001b[0;34m\u001b[0m\u001b[0m\n",
      "\u001b[0;32m~/opt/anaconda3/lib/python3.8/site-packages/intake/catalog/local.py\u001b[0m in \u001b[0;36mget\u001b[0;34m(self, **user_parameters)\u001b[0m\n\u001b[1;32m    282\u001b[0m             \u001b[0;32mreturn\u001b[0m \u001b[0mself\u001b[0m\u001b[0;34m.\u001b[0m\u001b[0m_default_source\u001b[0m\u001b[0;34m\u001b[0m\u001b[0;34m\u001b[0m\u001b[0m\n\u001b[1;32m    283\u001b[0m \u001b[0;34m\u001b[0m\u001b[0m\n\u001b[0;32m--> 284\u001b[0;31m         \u001b[0mplugin\u001b[0m\u001b[0;34m,\u001b[0m \u001b[0mopen_args\u001b[0m \u001b[0;34m=\u001b[0m \u001b[0mself\u001b[0m\u001b[0;34m.\u001b[0m\u001b[0m_create_open_args\u001b[0m\u001b[0;34m(\u001b[0m\u001b[0muser_parameters\u001b[0m\u001b[0;34m)\u001b[0m\u001b[0;34m\u001b[0m\u001b[0;34m\u001b[0m\u001b[0m\n\u001b[0m\u001b[1;32m    285\u001b[0m         \u001b[0mdata_source\u001b[0m \u001b[0;34m=\u001b[0m \u001b[0mplugin\u001b[0m\u001b[0;34m(\u001b[0m\u001b[0;34m**\u001b[0m\u001b[0mopen_args\u001b[0m\u001b[0;34m)\u001b[0m\u001b[0;34m\u001b[0m\u001b[0;34m\u001b[0m\u001b[0m\n\u001b[1;32m    286\u001b[0m         \u001b[0mdata_source\u001b[0m\u001b[0;34m.\u001b[0m\u001b[0mcatalog_object\u001b[0m \u001b[0;34m=\u001b[0m \u001b[0mself\u001b[0m\u001b[0;34m.\u001b[0m\u001b[0m_catalog\u001b[0m\u001b[0;34m\u001b[0m\u001b[0;34m\u001b[0m\u001b[0m\n",
      "\u001b[0;32m~/opt/anaconda3/lib/python3.8/site-packages/intake/catalog/local.py\u001b[0m in \u001b[0;36m_create_open_args\u001b[0;34m(self, user_parameters)\u001b[0m\n\u001b[1;32m    256\u001b[0m \u001b[0;34m\u001b[0m\u001b[0m\n\u001b[1;32m    257\u001b[0m         \u001b[0;32mif\u001b[0m \u001b[0mlen\u001b[0m\u001b[0;34m(\u001b[0m\u001b[0mself\u001b[0m\u001b[0;34m.\u001b[0m\u001b[0m_plugin\u001b[0m\u001b[0;34m)\u001b[0m \u001b[0;34m==\u001b[0m \u001b[0;36m0\u001b[0m\u001b[0;34m:\u001b[0m\u001b[0;34m\u001b[0m\u001b[0;34m\u001b[0m\u001b[0m\n\u001b[0;32m--> 258\u001b[0;31m             raise ValueError('No plugins loaded for this entry: %s\\n'\n\u001b[0m\u001b[1;32m    259\u001b[0m                              \u001b[0;34m'A listing of installable plugins can be found '\u001b[0m\u001b[0;34m\u001b[0m\u001b[0;34m\u001b[0m\u001b[0m\n\u001b[1;32m    260\u001b[0m                              \u001b[0;34m'at https://intake.readthedocs.io/en/latest/plugin'\u001b[0m\u001b[0;34m\u001b[0m\u001b[0;34m\u001b[0m\u001b[0m\n",
      "\u001b[0;31mValueError\u001b[0m: No plugins loaded for this entry: zarr\nA listing of installable plugins can be found at https://intake.readthedocs.io/en/latest/plugin-directory.html ."
     ]
    }
   ],
   "source": [
    "ds = cat.LLC4320_grid.to_dask()\n",
    "ds"
   ]
  },
  {
   "cell_type": "code",
   "execution_count": null,
   "metadata": {},
   "outputs": [],
   "source": [
    "# trick to make things run faster:\n",
    "coords = ds.coords.to_dataset().reset_coords()\n",
    "ds = ds.reset_coords(drop=True)"
   ]
  },
  {
   "cell_type": "markdown",
   "metadata": {},
   "source": [
    "### Note on data structure:\n",
    "The MITgcm LLC3420 have the following structure:\n",
    "There are 13 \"tiles\" which are pretty much 3d boxes.<br> Each tiles has latitude-longitude-depth coordinates with 4320x4320x90. <br>\n",
    "Over the whole globe that works out to be a **2km horizontal grid spacing**.\n",
    "\n",
    "Chech out this [lower resolution model](https://ecco-v4-python-tutorial.readthedocs.io/fields.html) that uses the same tiles. **Taiwan is in tile 5**.\n",
    "\n",
    "The model time from start to end is roughly one year with hourly output."
   ]
  },
  {
   "cell_type": "code",
   "execution_count": null,
   "metadata": {},
   "outputs": [],
   "source": [
    "# this is what the grid structure looks like\n",
    "# i and i_g are indices for the longitude dimension (i is at the cell center and i_g at the side)\n",
    "# j and j_g are indices for the latitude dimension\n",
    "# k is for the vertical (but doesn't pertain us here)\n",
    "ds"
   ]
  },
  {
   "cell_type": "markdown",
   "metadata": {},
   "source": [
    "## Slicing the data\n",
    "Since the data file are big, we only choose a small subset. We do that by using xarray slicing techniques. <br>**ntile** is the tile we pick,<br> **nt** is the time,<br> **i_slice** and **j_slice** are the ranges of longitude and latitude data, those are indices from the 4320x4320 grid."
   ]
  },
  {
   "cell_type": "code",
   "execution_count": null,
   "metadata": {},
   "outputs": [],
   "source": [
    "ntime = 100 # time picked at random\n",
    "ntile = 5 # tile 5 is for Taiwan\n",
    "i_slice = slice(2750,4320) # I picked those such that taiwan is in the focus and land is cut off\n",
    "j_slice =slice(0,2000)\n",
    "\n",
    "selector = dict(time=ntime, face=ntile, i=i_slice, j=j_slice,\n",
    "                i_g=i_slice, j_g=j_slice)\n",
    "grid_ds = grid_full.isel(**selector)"
   ]
  },
  {
   "cell_type": "code",
   "execution_count": null,
   "metadata": {},
   "outputs": [],
   "source": [
    "# range of longitudes\n",
    "grid_ds.XC.values.min(),grid_ds.XC.values.max()"
   ]
  },
  {
   "cell_type": "code",
   "execution_count": null,
   "metadata": {},
   "outputs": [],
   "source": [
    "# range of latitudes\n",
    "grid_ds.YC.values.min(),grid_ds.YC.values.max()"
   ]
  },
  {
   "cell_type": "code",
   "execution_count": null,
   "metadata": {},
   "outputs": [],
   "source": [
    "# where the depth is zero there is likely land\n",
    "grid_ds.Depth.plot()"
   ]
  },
  {
   "cell_type": "markdown",
   "metadata": {},
   "source": [
    "### After defining the region, we can now read the data variables:\n",
    "\n",
    "**SSH** is sea surface height, <br>\n",
    "**SST** is sea surface temperature. <br>\n",
    "**SSS** is sea surface salinity.<br>\n",
    "**(u,v)** are the horizontal velocity"
   ]
  },
  {
   "cell_type": "code",
   "execution_count": null,
   "metadata": {},
   "outputs": [],
   "source": [
    "ssh = cat.LLC4320_SSH(chunks=False).to_dask().isel(time=ntime, face=ntile, i=i_slice, j=j_slice)\n",
    "sst = cat.LLC4320_SST(chunks=False).to_dask().isel(time=ntime, face=ntile, i=i_slice, j=j_slice)\n",
    "# sss has some extra metadata\n",
    "sss = cat.LLC4320_SSS(chunks=False).to_dask().isel(time=ntime, face=ntile, i=i_slice, j=j_slice)[['SSS']].reset_coords(drop=True)\n",
    "u = cat.LLC4320_SSU(chunks=False).to_dask().isel(time=ntime, face=ntile, i_g=i_slice, j=j_slice)\n",
    "v = cat.LLC4320_SSV(chunks=False).to_dask().isel(time=ntime, face=ntile, i=i_slice, j_g=j_slice)\n",
    "ds = xr.merge([grid_ds, ssh, sst, sss, u, v])\n",
    "\n",
    "# vertical coordiantes are not helpful\n",
    "ds = ds.drop(['Z', 'Zl', 'Zp1', 'Zu', 'k', 'k_l', 'k_p1', 'PHrefF', 'drC'])\n",
    "ds"
   ]
  },
  {
   "cell_type": "code",
   "execution_count": null,
   "metadata": {},
   "outputs": [],
   "source": [
    "# make sure that longitudes are between -180 and 180\n",
    "def maybe_wrap_lon(lon):\n",
    "    if abs(lon.min() - lon.max()) < 180:\n",
    "        return lon\n",
    "    else:\n",
    "        return lon.where(lon > 0, other=(lon + 360))\n",
    "    \n",
    "ds.coords['XC'] = maybe_wrap_lon(ds.XC)\n",
    "ds.coords['YG'] = maybe_wrap_lon(ds.YG)"
   ]
  },
  {
   "cell_type": "code",
   "execution_count": null,
   "metadata": {},
   "outputs": [],
   "source": [
    "# this is prep work for the map\n",
    "# finding the center of the selected map\n",
    "\n",
    "central_lon = ds.XC.mean().values.item()\n",
    "central_lat = ds.YC.mean().values.item()\n",
    "\n",
    "lon_min = ds.XC.min().values.item()\n",
    "lon_max = ds.XC.max().values.item()\n",
    "lon_range = lon_max - lon_min\n",
    "\n",
    "lat_min = ds.YC.min().values.item()\n",
    "lat_max = ds.YC.max().values.item()\n",
    "lat_range = lat_max - lat_min\n",
    "\n",
    "proj = ccrs.Orthographic(central_longitude=central_lon,\n",
    "                         central_latitude=central_lat)\n",
    "\n",
    "date_str = np.datetime_as_string(ds.time.values, timezone='UTC', unit='m')\n",
    "\n",
    "location = f'{central_lon:3.1f}, {central_lat:3.1f} | {date_str}'\n",
    "print(location)"
   ]
  },
  {
   "cell_type": "markdown",
   "metadata": {},
   "source": [
    "### The grids are very complicated, so there is a tool that deals with this. "
   ]
  },
  {
   "cell_type": "code",
   "execution_count": null,
   "metadata": {},
   "outputs": [],
   "source": [
    "grid = xgcm.Grid(ds, periodic=False)\n",
    "grid"
   ]
  },
  {
   "cell_type": "code",
   "execution_count": null,
   "metadata": {},
   "outputs": [],
   "source": [
    "# Don't worry about these calculations yet. They will be useful later on.\n",
    "# EKE is eddy kinetic energy\n",
    "# Zeta is vorticity\n",
    "# Div is divergence\n",
    "ds['eke'] = 0.5 * (grid.interp(ds.U**2, 'X', boundary='extend')\n",
    "             + grid.interp(ds.V**2, 'Y', boundary='extend'))\n",
    "\n",
    "ds['zeta'] = 1e4 * (-grid.diff(ds.U * ds.dxC, 'Y', boundary='extend') +\n",
    "                    grid.diff(ds.V * ds.dyC, 'X', boundary='extend'))/ds.rAz\n",
    "\n",
    "ds['div'] = (grid.diff(ds.U * ds.dxC, 'X', boundary='extend') +\n",
    "             grid.diff(ds.V * ds.dyC, 'Y', boundary='extend'))/ds.rA"
   ]
  },
  {
   "cell_type": "code",
   "execution_count": null,
   "metadata": {},
   "outputs": [],
   "source": [
    "# fix some metadata for plotting\n",
    "ds.zeta.attrs['units'] = r'$10^{-4}$ s$^{-1}$'\n",
    "ds.zeta.attrs['long_name'] = 'Vorticity'\n",
    "\n",
    "ds.SST.attrs['units'] = r'$^\\circ$C'\n",
    "ds.SST.attrs['long_name'] = 'Sea Surface Temperature'\n",
    "\n",
    "ds.SSS.attrs['units'] = r'psu'\n",
    "ds.SSS.attrs['long_name'] = 'Sea Surface Salinity'\n",
    "\n",
    "ds.Eta.attrs['units'] = r'm'\n",
    "ds.Eta.attrs['long_name'] = 'Sea Surface Height'"
   ]
  },
  {
   "cell_type": "code",
   "execution_count": null,
   "metadata": {},
   "outputs": [],
   "source": [
    "# lon_min near equator are square\n",
    "# towards pole, both dimensions contract\n",
    "scale_lon = 2 + 0.75 * abs(np.deg2rad(central_lat))\n",
    "scale_lat = 2 + 0.3 * abs(np.deg2rad(central_lat))\n",
    "\n",
    "print(scale_lon, scale_lat)\n",
    "\n",
    "extent = [central_lon - lon_range/scale_lon, central_lon + lon_range/scale_lon,\n",
    "          central_lat - lat_range/scale_lat, central_lat + lat_range/scale_lat]"
   ]
  },
  {
   "cell_type": "markdown",
   "metadata": {},
   "source": [
    "### This is a manual plotting function to set up the map.\n",
    "The main point here is that we are plotting spherial data onto a 2D grid, so we make to make a choice about how to project that. Like in every map of the Earth."
   ]
  },
  {
   "cell_type": "code",
   "execution_count": null,
   "metadata": {},
   "outputs": [],
   "source": [
    "plt.rcParams['font.size'] = 16\n",
    "def plot(da, clip_extent=True, **kwargs):\n",
    "    xdim = 'XC' if 'i' in da.dims else 'XG'\n",
    "    ydim = 'YC' if 'j' in da.dims else 'YG'\n",
    "    \n",
    "    fig = plt.figure(figsize=(13, 10))\n",
    "    ax = fig.add_axes([0, 0.02, 1, 0.91],\n",
    "                      projection=ccrs.Orthographic(central_lon, central_lat))\n",
    "    ax.background_patch.set_facecolor('0.6')\n",
    "    if clip_extent:\n",
    "        ax.set_extent(extent, crs=ccrs.PlateCarree())\n",
    "    gl = ax.gridlines()\n",
    "    \n",
    "    da.plot(ax=ax, x=xdim, y=ydim, transform=ccrs.PlateCarree(), **kwargs)\n",
    "    ax.set_title(f'LLC4320 {da.long_name} | {location}')"
   ]
  },
  {
   "cell_type": "code",
   "execution_count": null,
   "metadata": {},
   "outputs": [],
   "source": [
    "plot(ds.Depth, center=False, robust=True, cmap=cmocean.cm.thermal,\n",
    "     cbar_kwargs={'pad':0.01,'aspect': 30}, rasterized=True)\n",
    "plt.savefig('DEPTH.png')"
   ]
  },
  {
   "cell_type": "code",
   "execution_count": null,
   "metadata": {},
   "outputs": [],
   "source": [
    "plot(ds.SST, center=False, robust=True, cmap=cmocean.cm.thermal,\n",
    "     cbar_kwargs={'pad':0.01,'aspect': 30}, rasterized=True)\n",
    "plt.savefig('SST.png')"
   ]
  },
  {
   "cell_type": "code",
   "execution_count": null,
   "metadata": {},
   "outputs": [],
   "source": [
    "plot(ds.SSS, center=False, robust=True, cmap=cmocean.cm.haline,\n",
    "     cbar_kwargs={'pad':0.01,'aspect': 30})\n",
    "plt.savefig('SSS.png')"
   ]
  },
  {
   "cell_type": "code",
   "execution_count": null,
   "metadata": {},
   "outputs": [],
   "source": [
    "plot(ds.Eta, center=False, robust=True, cmap=cmocean.cm.dense_r,\n",
    "     cbar_kwargs={'pad':0.01,'aspect': 30})\n",
    "plt.savefig('SSH.png')"
   ]
  },
  {
   "cell_type": "code",
   "execution_count": null,
   "metadata": {},
   "outputs": [],
   "source": [
    "plot(ds.zeta, robust=True, cmap=cmocean.cm.curl, cbar_kwargs={'pad':0.01,'aspect': 30})\n",
    "plt.savefig('Vort.png')"
   ]
  },
  {
   "cell_type": "code",
   "execution_count": null,
   "metadata": {},
   "outputs": [],
   "source": []
  }
 ],
 "metadata": {
  "kernelspec": {
   "display_name": "Python 3",
   "language": "python",
   "name": "python3"
  },
  "language_info": {
   "codemirror_mode": {
    "name": "ipython",
    "version": 3
   },
   "file_extension": ".py",
   "mimetype": "text/x-python",
   "name": "python",
   "nbconvert_exporter": "python",
   "pygments_lexer": "ipython3",
   "version": "3.8.5"
  }
 },
 "nbformat": 4,
 "nbformat_minor": 4
}
